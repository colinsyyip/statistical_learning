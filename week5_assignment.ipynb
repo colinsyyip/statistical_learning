{
 "cells": [
  {
   "cell_type": "code",
   "execution_count": 1,
   "metadata": {},
   "outputs": [],
   "source": [
    "import matplotlib.pyplot as plt\n",
    "import numpy as np\n",
    "import pyreadr\n",
    "import sklearn.linear_model as skl\n",
    "import sklearn.model_selection as skm"
   ]
  },
  {
   "cell_type": "code",
   "execution_count": 2,
   "metadata": {},
   "outputs": [],
   "source": [
    "train = pyreadr.read_r(\"masq_train.Rda\")\n",
    "test = pyreadr.read_r(\"masq_test.Rda\")\n",
    "\n",
    "train_df = train[None]\n",
    "test_df = test[None]"
   ]
  },
  {
   "cell_type": "markdown",
   "metadata": {},
   "source": [
    "### Question a"
   ]
  },
  {
   "cell_type": "code",
   "execution_count": 3,
   "metadata": {},
   "outputs": [
    {
     "data": {
      "image/png": "[encoded data removed]",
      "text/plain": [
       "<Figure size 640x480 with 1 Axes>"
      ]
     },
     "metadata": {},
     "output_type": "display_data"
    }
   ],
   "source": [
    "pairwise_corr = train_df[[x for x in train_df.columns if \"MASQ\" in x]].corr()\n",
    "corrs = pairwise_corr.values.flatten()\n",
    "\n",
    "fig, ax = plt.subplots()\n",
    "ax.hist(corrs, bins='auto')\n",
    "ax.set_xlabel(\"Correlations\")\n",
    "ax.set_ylabel(\"Frequency\")\n",
    "ax.set_title(\"Pairwise correlations\")\n",
    "ax.grid()\n",
    "fig.tight_layout()"
   ]
  },
  {
   "cell_type": "markdown",
   "metadata": {},
   "source": [
    "There is significant multicollinearity (excluding the diagonal of the correlation matrix), as the distribution of pairwise correlations is shifted to the right of $0$. Based on this multicollinearity, elastic net or ridge regression should be used in order to reduce the impacts of multicollinearity."
   ]
  },
  {
   "cell_type": "markdown",
   "metadata": {},
   "source": [
    "### Question b\n",
    "\n",
    "Based on collinearity and the need for a sparser solution given the realistic context of diagnosis, the following models will be selected:\n",
    "- Elastic net ($\\alpha=0.5$)\n",
    "- Ridge\n",
    "- Lasso (not relaxed, as there is no well established implementation in Python for relaxed lasso unfortunately)"
   ]
  },
  {
   "cell_type": "code",
   "execution_count": 4,
   "metadata": {},
   "outputs": [],
   "source": [
    "na_swapped_train_df = train_df.replace('NA', np.nan).dropna()\n",
    "train_Y = na_swapped_train_df['D_DEPDYS']\n",
    "train_X = na_swapped_train_df.iloc[:, 1:]\n",
    "train_X['GENDER'] = train_X['GENDER'].apply(lambda x: 1 if x ==\"v\" else 0)\n",
    "train_X = train_X.astype(int)"
   ]
  },
  {
   "cell_type": "code",
   "execution_count": 5,
   "metadata": {},
   "outputs": [],
   "source": [
    "validation = skm.KFold(10,\n",
    "                       random_state=123,\n",
    "                       shuffle=True)\n",
    "\n",
    "# Elastic net with alpha=0.5\n",
    "elastic_net_model = skl.LogisticRegression(l1_ratio=0.5,\n",
    "                                           penalty='elasticnet',\n",
    "                                           solver='saga',\n",
    "                                           max_iter=10000)\n",
    "elastic_net_results = skm.cross_validate(elastic_net_model,\n",
    "                                         train_X,\n",
    "                                         train_Y,\n",
    "                                         scoring='accuracy',\n",
    "                                         cv=validation)\n",
    "elastic_net_result_accuracies = elastic_net_results['test_score']\n",
    "average_elastic_net_accuracy = np.mean(elastic_net_result_accuracies)\n",
    "\n",
    "# Ridge model\n",
    "ridge_model = skl.LogisticRegression(penalty='l2',\n",
    "                                     max_iter=10000)\n",
    "ridge_results = skm.cross_validate(ridge_model,\n",
    "                                   train_X,\n",
    "                                   train_Y,\n",
    "                                   scoring='accuracy',\n",
    "                                   cv=validation)\n",
    "ridge_result_accuracies = ridge_results['test_score']\n",
    "average_ridge_accuracy = np.mean(ridge_result_accuracies)\n",
    "\n",
    "# Lasso model\n",
    "lasso_model = skl.LogisticRegression(penalty='l1',\n",
    "                                     solver='saga',\n",
    "                                     max_iter=10000)\n",
    "lasso_results = skm.cross_validate(lasso_model,\n",
    "                                   train_X,\n",
    "                                   train_Y,\n",
    "                                   scoring='accuracy',\n",
    "                                   cv=validation)\n",
    "lasso_result_accuracies = lasso_results['test_score']\n",
    "average_lasso_accuracy = np.mean(lasso_result_accuracies)"
   ]
  },
  {
   "cell_type": "markdown",
   "metadata": {},
   "source": [
    "Surprisingly, lasso logistic regression performs the best, with an accuracy of $0.738$"
   ]
  },
  {
   "cell_type": "markdown",
   "metadata": {},
   "source": [
    "### Question d"
   ]
  },
  {
   "cell_type": "code",
   "execution_count": null,
   "metadata": {},
   "outputs": [
    {
     "data": {
      "text/plain": [
       "0.2260183968462549"
      ]
     },
     "execution_count": 102,
     "metadata": {},
     "output_type": "execute_result"
    }
   ],
   "source": [
    "na_swapped_test_df = test_df.replace('NA', np.nan).dropna()\n",
    "test_Y = na_swapped_test_df['D_DEPDYS']\n",
    "test_X = na_swapped_test_df.iloc[:, 1:]\n",
    "test_X['GENDER'] = test_X['GENDER'].apply(lambda x: 1 if x ==\"v\" else 0)\n",
    "test_X = test_X.astype(int)\n",
    "\n",
    "final_lasso_model = skl.LogisticRegression(penalty='l1',\n",
    "                                           solver='saga',\n",
    "                                           max_iter=10000)\n",
    "fitted_final_lasso = final_lasso_model.fit(train_X,\n",
    "                                           train_Y)\n",
    "1 - fitted_final_lasso.score(test_X, test_Y)"
   ]
  },
  {
   "cell_type": "markdown",
   "metadata": {},
   "source": [
    "The final misclassification rate is $22.6\\%$"
   ]
  },
  {
   "cell_type": "markdown",
   "metadata": {},
   "source": [
    "### Question e"
   ]
  },
  {
   "cell_type": "code",
   "execution_count": null,
   "metadata": {},
   "outputs": [],
   "source": [
    "fitted_coefficients = fitted_final_lasso.coef_[0]\n",
    "enumerated_coefficients = list(enumerate(fitted_coefficients))\n",
    "non_zero_coeffs = [x for x in enumerated_coefficients if x[1] != 0]\n",
    "selected_coeff_titles = test_X.columns[[x[0] for x in non_zero_coeffs]]\n",
    "masq_enums = [int(x[4:]) for x in selected_coeff_titles if \"MASQ\" in x]"
   ]
  },
  {
   "cell_type": "code",
   "execution_count": null,
   "metadata": {},
   "outputs": [],
   "source": [
    "anhedonic_items = [1, 14, 18, 21, 23, 26, 27, 30, 33, 35, 36, \n",
    "                   39, 40, 44, 49, 53, 58, 66, 72, 78, 86, 89]\n",
    "anxious_arousal_items = [3, 19, 25, 45, 48, 52, 55, 57, 61, \n",
    "                         67, 69, 73, 75, 79, 85, 87, 88]\n",
    "general_distres_depression_items = [6, 8, 10, 13, 16, 22, 24, \n",
    "                                    42, 47, 56, 64, 74]\n",
    "general_distress_anxiety_items = [2, 9, 12, 15, 20, 59, 63, 65, 77, 81, 82]\n",
    "general_distress_mixed_items = [4, 5, 17, 29, 31, 34, 37, 50, 51, 70, 76, 80, 83, 84, 90]\n",
    "\n",
    "anhedonic_count = sum([x in anhedonic_items for x in masq_enums])\n",
    "anxious_arousal_count = sum([x in anxious_arousal_items for x in masq_enums])\n",
    "general_distres_depression_count = sum([x in general_distres_depression_items for x in masq_enums])\n",
    "general_distress_anxiety_count = sum([x in general_distress_anxiety_items for x in masq_enums])\n",
    "general_distress_mixed_count = sum([x in general_distress_mixed_items for x in masq_enums])"
   ]
  },
  {
   "cell_type": "markdown",
   "metadata": {},
   "source": [
    "The most items are selected from the Anhedonic Depression subscale."
   ]
  }
 ],
 "metadata": {
  "kernelspec": {
   "display_name": "Python 3",
   "language": "python",
   "name": "python3"
  },
  "language_info": {
   "codemirror_mode": {
    "name": "ipython",
    "version": 3
   },
   "file_extension": ".py",
   "mimetype": "text/x-python",
   "name": "python",
   "nbconvert_exporter": "python",
   "pygments_lexer": "ipython3",
   "version": "3.11.5"
  },
  "orig_nbformat": 4
 },
 "nbformat": 4,
 "nbformat_minor": 2
}
