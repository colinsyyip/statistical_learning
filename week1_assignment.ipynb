{
 "cells": [
  {
   "cell_type": "markdown",
   "metadata": {},
   "source": [
    "# Assignment 1\n",
    "## Feb. 13, 2023"
   ]
  },
  {
   "cell_type": "code",
   "execution_count": 1,
   "metadata": {},
   "outputs": [],
   "source": [
    "import numpy as np\n",
    "from numpy.polynomial.polynomial import Polynomial\n",
    "import pandas as pd"
   ]
  },
  {
   "cell_type": "markdown",
   "metadata": {},
   "source": [
    "## Set `np` seed"
   ]
  },
  {
   "cell_type": "code",
   "execution_count": 2,
   "metadata": {},
   "outputs": [],
   "source": [
    "np.random.seed(1234)"
   ]
  },
  {
   "cell_type": "markdown",
   "metadata": {},
   "source": [
    "### Function Definition"
   ]
  },
  {
   "cell_type": "code",
   "execution_count": 3,
   "metadata": {},
   "outputs": [],
   "source": [
    "def generate_error(mean: float = 0,\n",
    "                   sd: float = 1):\n",
    "    \"\"\"\n",
    "    Generate normal error\n",
    "    \"\"\"\n",
    "    return np.random.normal(loc = mean,\n",
    "                             scale = sd)\n",
    "    \n",
    "\n",
    "def generate_response(n: int,\n",
    "                      lower_bound: float = -3,\n",
    "                      upper_bound: float = 3,\n",
    "                      **kwargs):\n",
    "    \"\"\"\n",
    "    Generate a response variable of a given size using a uniform x\n",
    "    \"\"\"\n",
    "    if lower_bound >= upper_bound:\n",
    "        raise ValueError(\"Lower bound must be lt upper_bound\")\n",
    "    \n",
    "    # Generate n observations from uniform distribution, x ~ U(lower_bound, upper_bound)\n",
    "    generated_predictor = np.random.uniform(low = lower_bound,\n",
    "                                            high = upper_bound,\n",
    "                                            size = n)\n",
    "    \n",
    "    # Generate response, y = 8 * sin(x) + error\n",
    "    response_variable = [8 * np.sin(x) + generate_error(**kwargs) for x in generated_predictor]\n",
    "\n",
    "    # Combine x and y to pd.DataFrame\n",
    "    return_df = pd.DataFrame({\"x\": generated_predictor,\n",
    "                              \"y\": response_variable})\n",
    "    \n",
    "    return return_df\n",
    "\n",
    "\n",
    "def fit_polynomial(training_set: pd.DataFrame,\n",
    "                   test_set: pd.DataFrame,\n",
    "                   degree: int,\n",
    "                   return_fit: bool = False):\n",
    "    \"\"\"\n",
    "    Fit polynomial to auto-generated data, returning either just MSE or MSE and the fitted function\n",
    "    \"\"\"\n",
    "    training_fit = Polynomial.fit(x = training_set['x'],\n",
    "                                  y = training_set['y'],\n",
    "                                  deg = degree)\n",
    "    unshifted_fit = training_fit.convert()\n",
    "\n",
    "    test_set['yhat'] = unshifted_fit(test_set['x'])\n",
    "    squared_errors = (test_set['yhat'] - test_set['y']) ** 2\n",
    "    mse = squared_errors.mean()\n",
    "\n",
    "    if return_fit:\n",
    "        unshifted_fit_str = [str(round(x, 3)) for x in unshifted_fit]\n",
    "        return (mse, unshifted_fit_str)\n",
    "    else:\n",
    "        return mse"
   ]
  },
  {
   "cell_type": "markdown",
   "metadata": {},
   "source": [
    "#### Fit a polynomial with training $n$ of 50 and test $n$ of 10000"
   ]
  },
  {
   "cell_type": "code",
   "execution_count": 4,
   "metadata": {},
   "outputs": [],
   "source": [
    "training_set = generate_response(n = 50)\n",
    "test_set = generate_response(n = 10000)\n",
    "\n",
    "degree_3_mse_1 = fit_polynomial(training_set = training_set,\n",
    "                                test_set = test_set,\n",
    "                                degree = 3,\n",
    "                                return_fit = True)\n",
    "\n",
    "degree_15_mse_1 = fit_polynomial(training_set = training_set,\n",
    "                                 test_set = test_set,\n",
    "                                 degree = 15,\n",
    "                                 return_fit = True)"
   ]
  },
  {
   "cell_type": "markdown",
   "metadata": {},
   "source": [
    "#### Fit a polynomial with training $n$ of 10000 and test $n$ of 10000"
   ]
  },
  {
   "cell_type": "code",
   "execution_count": 5,
   "metadata": {},
   "outputs": [],
   "source": [
    "training_set = generate_response(n = 10000)\n",
    "test_set = generate_response(n = 10000)\n",
    "\n",
    "degree_3_mse_2 = fit_polynomial(training_set = training_set,\n",
    "                                test_set = test_set,\n",
    "                                degree = 3,\n",
    "                                return_fit = True)\n",
    "\n",
    "degree_15_mse_2 = fit_polynomial(training_set = training_set,\n",
    "                                 test_set = test_set,\n",
    "                                 degree = 15,\n",
    "                                 return_fit = True)"
   ]
  },
  {
   "cell_type": "markdown",
   "metadata": {},
   "source": [
    "#### Collect results"
   ]
  },
  {
   "cell_type": "code",
   "execution_count": 6,
   "metadata": {},
   "outputs": [],
   "source": [
    "all_fits = [degree_3_mse_1, degree_15_mse_1, degree_3_mse_2, degree_15_mse_2]\n",
    "\n",
    "data_dict = {\"Degree\": [3, 15, 3, 15],\n",
    "             \"Training Set Size\": [50, 50, 10000, 10000],\n",
    "             \"MSE\": [x[0] for x in all_fits],\n",
    "             \"Fitted Prediction Function Coeffs\": [x[1] for x in all_fits]}\n",
    "summary_output = pd.DataFrame(data = data_dict)"
   ]
  },
  {
   "cell_type": "code",
   "execution_count": 7,
   "metadata": {},
   "outputs": [
    {
     "data": {
      "text/html": [
       "<div>\n",
       "<style scoped>\n",
       "    .dataframe tbody tr th:only-of-type {\n",
       "        vertical-align: middle;\n",
       "    }\n",
       "\n",
       "    .dataframe tbody tr th {\n",
       "        vertical-align: top;\n",
       "    }\n",
       "\n",
       "    .dataframe thead th {\n",
       "        text-align: right;\n",
       "    }\n",
       "</style>\n",
       "<table border=\"1\" class=\"dataframe\">\n",
       "  <thead>\n",
       "    <tr style=\"text-align: right;\">\n",
       "      <th></th>\n",
       "      <th>Degree</th>\n",
       "      <th>Training Set Size</th>\n",
       "      <th>MSE</th>\n",
       "      <th>Fitted Prediction Function Coeffs</th>\n",
       "    </tr>\n",
       "  </thead>\n",
       "  <tbody>\n",
       "    <tr>\n",
       "      <th>0</th>\n",
       "      <td>3</td>\n",
       "      <td>50</td>\n",
       "      <td>1.584334</td>\n",
       "      <td>[0.253, 7.352, -0.124, -0.887]</td>\n",
       "    </tr>\n",
       "    <tr>\n",
       "      <th>1</th>\n",
       "      <td>15</td>\n",
       "      <td>50</td>\n",
       "      <td>3.780628</td>\n",
       "      <td>[0.455, 7.277, -2.253, -0.2, 2.411, 0.09, -0.5...</td>\n",
       "    </tr>\n",
       "    <tr>\n",
       "      <th>2</th>\n",
       "      <td>3</td>\n",
       "      <td>10000</td>\n",
       "      <td>1.171233</td>\n",
       "      <td>[0.003, 7.028, -0.006, -0.79]</td>\n",
       "    </tr>\n",
       "    <tr>\n",
       "      <th>3</th>\n",
       "      <td>15</td>\n",
       "      <td>10000</td>\n",
       "      <td>0.991594</td>\n",
       "      <td>[0.029, 8.075, -0.143, -1.765, 0.161, 0.645, -...</td>\n",
       "    </tr>\n",
       "  </tbody>\n",
       "</table>\n",
       "</div>"
      ],
      "text/plain": [
       "   Degree  Training Set Size       MSE  \\\n",
       "0       3                 50  1.584334   \n",
       "1      15                 50  3.780628   \n",
       "2       3              10000  1.171233   \n",
       "3      15              10000  0.991594   \n",
       "\n",
       "                   Fitted Prediction Function Coeffs  \n",
       "0                     [0.253, 7.352, -0.124, -0.887]  \n",
       "1  [0.455, 7.277, -2.253, -0.2, 2.411, 0.09, -0.5...  \n",
       "2                      [0.003, 7.028, -0.006, -0.79]  \n",
       "3  [0.029, 8.075, -0.143, -1.765, 0.161, 0.645, -...  "
      ]
     },
     "execution_count": 7,
     "metadata": {},
     "output_type": "execute_result"
    }
   ],
   "source": [
    "summary_output"
   ]
  },
  {
   "cell_type": "markdown",
   "metadata": {},
   "source": [
    "- Based on the above, the best possible prediction rule $f$ is a degree of 15 and a training set size of 10000. This results in an MSE of 0.991594.\n",
    "- The 4 MSEs of the combinations of Degree and Training Set Size are listed above. These make sense, as small training set sizes lead to a large amount of variance, in particular for fitting high degree polynomials that have a tendency to overfit. For larger training set sizes, this reduces the variance across sets, but the average prediction across the sets is also most likely farther from the true predicted value. "
   ]
  }
 ],
 "metadata": {
  "kernelspec": {
   "display_name": "Python 3",
   "language": "python",
   "name": "python3"
  },
  "language_info": {
   "codemirror_mode": {
    "name": "ipython",
    "version": 3
   },
   "file_extension": ".py",
   "mimetype": "text/x-python",
   "name": "python",
   "nbconvert_exporter": "python",
   "pygments_lexer": "ipython3",
   "version": "3.11.5"
  },
  "orig_nbformat": 4
 },
 "nbformat": 4,
 "nbformat_minor": 2
}
